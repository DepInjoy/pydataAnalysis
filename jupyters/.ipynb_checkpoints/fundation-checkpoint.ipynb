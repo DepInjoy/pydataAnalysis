{
 "cells": [
  {
   "cell_type": "markdown",
   "metadata": {},
   "source": [
    "## 自省"
   ]
  },
  {
   "cell_type": "markdown",
   "metadata": {},
   "source": [
    "### 在变量后面添加？，可以显示对象信息。"
   ]
  },
  {
   "cell_type": "code",
   "execution_count": null,
   "metadata": {},
   "outputs": [],
   "source": [
    "b=[1,2,3]\n",
    "b?"
   ]
  },
  {
   "cell_type": "markdown",
   "metadata": {},
   "source": [
    "Type:        list\n",
    "String form: [1, 2, 3]\n",
    "Length:      3\n",
    "Docstring:  \n",
    "Built-in mutable sequence.\n",
    "\n",
    "If no argument is given, the constructor creates a new empty list.\n",
    "The argument must be an iterable if specified."
   ]
  },
  {
   "cell_type": "markdown",
   "metadata": {},
   "source": [
    "### 对象的自省，如果对象会实例定义过文档字符串，也可以显示信息。"
   ]
  },
  {
   "cell_type": "code",
   "execution_count": 15,
   "metadata": {},
   "outputs": [],
   "source": [
    "def add_number(a, b):\n",
    "    '''\n",
    "    Add two numbers together\n",
    "    Return\n",
    "    ---------\n",
    "    the_sum:type of arguments\n",
    "    '''\n",
    "    return a+b"
   ]
  },
  {
   "cell_type": "markdown",
   "metadata": {},
   "source": [
    "显示文档字符串"
   ]
  },
  {
   "cell_type": "code",
   "execution_count": 13,
   "metadata": {},
   "outputs": [],
   "source": [
    "add_number?"
   ]
  },
  {
   "cell_type": "markdown",
   "metadata": {},
   "source": [
    "显示函数源码"
   ]
  },
  {
   "cell_type": "code",
   "execution_count": 14,
   "metadata": {},
   "outputs": [],
   "source": [
    "add_number??"
   ]
  },
  {
   "cell_type": "markdown",
   "metadata": {},
   "source": [
    "## 魔术命令"
   ]
  },
  {
   "cell_type": "markdown",
   "metadata": {},
   "source": [
    "timeit测试语句的执行时间"
   ]
  },
  {
   "cell_type": "code",
   "execution_count": 1,
   "metadata": {},
   "outputs": [
    {
     "name": "stdout",
     "output_type": "stream",
     "text": [
      "54 µs ± 1.05 µs per loop (mean ± std. dev. of 7 runs, 10000 loops each)\n"
     ]
    }
   ],
   "source": [
    "import numpy as np\n",
    "a=np.random.randn(100, 100)\n",
    "%timeit np.dot(a, a)"
   ]
  },
  {
   "cell_type": "markdown",
   "metadata": {},
   "source": [
    "## 函数"
   ]
  },
  {
   "cell_type": "markdown",
   "metadata": {},
   "source": [
    "### 对象方法调用"
   ]
  },
  {
   "cell_type": "markdown",
   "metadata": {},
   "source": [
    "### 属性和方法"
   ]
  },
  {
   "cell_type": "markdown",
   "metadata": {},
   "source": [
    "函数返回多个数值"
   ]
  },
  {
   "cell_type": "code",
   "execution_count": 3,
   "metadata": {},
   "outputs": [
    {
     "name": "stdout",
     "output_type": "stream",
     "text": [
      "3 -1 2 0.5\n"
     ]
    }
   ],
   "source": [
    "def ops(a, b):\n",
    "    return a+b, a-b, a*b, a/b\n",
    "r0, r1, r2, r3 = ops(1,2)\n",
    "print(r0, r1, r2, r3)"
   ]
  },
  {
   "cell_type": "markdown",
   "metadata": {},
   "source": [
    "### 鸭子类型\n",
    "不关心对象的类型，只关心对象是否有某种用途或者方法，这通常被称为“鸭子类型”。"
   ]
  },
  {
   "cell_type": "markdown",
   "metadata": {},
   "source": [
    "验证一个对象是否遵循迭代协议，可迭代的意味着它有__iter__魔术方法，判断函数时iter函数"
   ]
  },
  {
   "cell_type": "code",
   "execution_count": 3,
   "metadata": {},
   "outputs": [
    {
     "name": "stdout",
     "output_type": "stream",
     "text": [
      "True\n",
      "False\n"
     ]
    }
   ],
   "source": [
    "def isiterable(obj):\n",
    "    try:\n",
    "        iter(obj)\n",
    "        return True\n",
    "    except TypeError:\n",
    "        return False\n",
    "print(isiterable(\"a string\"))\n",
    "print(isiterable(5))"
   ]
  },
  {
   "cell_type": "markdown",
   "metadata": {},
   "source": [
    "应用：实现可以接受任意类型的序列（list、tuple、ndarray）或迭代器"
   ]
  },
  {
   "cell_type": "code",
   "execution_count": null,
   "metadata": {},
   "outputs": [],
   "source": [
    "# 检查对象是否是列表\n",
    "if not isinstance(x, list) and isiterable(x):\n",
    "    # 转变为列表\n",
    "    x=list(x)"
   ]
  },
  {
   "cell_type": "markdown",
   "metadata": {},
   "source": [
    "## 数据类型"
   ]
  },
  {
   "cell_type": "markdown",
   "metadata": {},
   "source": [
    "### 字符串\n",
    "字符串是不可被改变的，不能修改字符串"
   ]
  },
  {
   "cell_type": "markdown",
   "metadata": {},
   "source": [
    "#### 字符串格式化"
   ]
  },
  {
   "cell_type": "markdown",
   "metadata": {},
   "source": [
    "在字符串前面添加r，代表字符就是其自身。"
   ]
  },
  {
   "cell_type": "code",
   "execution_count": 7,
   "metadata": {},
   "outputs": [
    {
     "name": "stdout",
     "output_type": "stream",
     "text": [
      "This\\has\\no\\special\\characters\\n\n"
     ]
    }
   ],
   "source": [
    "s=r\"This\\has\\no\\special\\characters\\n\"\n",
    "print(s)"
   ]
  },
  {
   "cell_type": "markdown",
   "metadata": {},
   "source": [
    "{0:.2f}:格式化第一个参数带有两个小数的浮点数\n",
    "{1:s}: 格式化第二个参数为字符串\n",
    "{2:d}: 格式化第三个参数为整数"
   ]
  },
  {
   "cell_type": "code",
   "execution_count": 31,
   "metadata": {},
   "outputs": [
    {
     "name": "stdout",
     "output_type": "stream",
     "text": [
      "7.09 RMB are worth US $1.\n"
     ]
    }
   ],
   "source": [
    "tmp='{0:.2f} {1:s} are worth US ${2:d}.'\n",
    "tmp=tmp.format(7.092, \"RMB\", 1)\n",
    "print(tmp)"
   ]
  },
  {
   "cell_type": "markdown",
   "metadata": {},
   "source": [
    "## 数据结构"
   ]
  },
  {
   "cell_type": "markdown",
   "metadata": {},
   "source": [
    "### 元组"
   ]
  },
  {
   "cell_type": "markdown",
   "metadata": {},
   "source": [
    "元组是一个固定长度，不可改变的Python序列对象。"
   ]
  },
  {
   "cell_type": "markdown",
   "metadata": {},
   "source": [
    "最简单创建元组的方式，通过逗号将数值分开"
   ]
  },
  {
   "cell_type": "code",
   "execution_count": 5,
   "metadata": {},
   "outputs": [
    {
     "data": {
      "text/plain": [
       "(1, 2, 3, 4, 5, 6)"
      ]
     },
     "execution_count": 5,
     "metadata": {},
     "output_type": "execute_result"
    }
   ],
   "source": [
    "tup = 1,2,3,4,5,6\n",
    "tup"
   ]
  },
  {
   "cell_type": "markdown",
   "metadata": {},
   "source": [
    "将元组放在()内定义"
   ]
  },
  {
   "cell_type": "code",
   "execution_count": 3,
   "metadata": {},
   "outputs": [
    {
     "name": "stdout",
     "output_type": "stream",
     "text": [
      "((1, 2, 3, 4), (5, 6))\n"
     ]
    }
   ],
   "source": [
    "nested_tup = (1,2,3,4),(5,6)\n",
    "print(nested_tup)"
   ]
  },
  {
   "cell_type": "markdown",
   "metadata": {},
   "source": [
    "用tuple将任意序列或迭代器转换成元组"
   ]
  },
  {
   "cell_type": "code",
   "execution_count": 7,
   "metadata": {},
   "outputs": [
    {
     "name": "stdout",
     "output_type": "stream",
     "text": [
      "(1, 2, 3, 4)\n",
      "('H', 'e', 'l', 'l', 'o')\n"
     ]
    }
   ],
   "source": [
    "tup=tuple([1,2,3,4])\n",
    "print(tup)\n",
    "\n",
    "tup=tuple(\"Hello\")\n",
    "print(tup)"
   ]
  },
  {
   "cell_type": "markdown",
   "metadata": {},
   "source": [
    "如果元组中某个对象是可变的，如列表，可以在原位进行修改"
   ]
  },
  {
   "cell_type": "code",
   "execution_count": 9,
   "metadata": {},
   "outputs": [
    {
     "name": "stdout",
     "output_type": "stream",
     "text": [
      "('Hello', [1, 2, 3], True)\n"
     ]
    }
   ],
   "source": [
    "tup=tuple(['Hello', [1,2], True])\n",
    "tup[1].append(3)\n",
    "print(tup)"
   ]
  },
  {
   "cell_type": "markdown",
   "metadata": {},
   "source": [
    "+可以实现元组的串联"
   ]
  },
  {
   "cell_type": "code",
   "execution_count": 10,
   "metadata": {},
   "outputs": [
    {
     "name": "stdout",
     "output_type": "stream",
     "text": [
      "(1, 2, 3, 5, 6, 7, 8)\n"
     ]
    }
   ],
   "source": [
    "tup=(1,2,3)+(5,6,7,8)\n",
    "print(tup)"
   ]
  },
  {
   "cell_type": "markdown",
   "metadata": {},
   "source": [
    "乘号 可以实现几个元组的复制串联"
   ]
  },
  {
   "cell_type": "code",
   "execution_count": 11,
   "metadata": {},
   "outputs": [
    {
     "name": "stdout",
     "output_type": "stream",
     "text": [
      "重要的事情说三遍！！ 重要的事情说三遍！！ 重要的事情说三遍！！ \n"
     ]
    }
   ],
   "source": [
    "tup=(\"重要的事情说三遍！！ \")*3\n",
    "print(tup)"
   ]
  },
  {
   "cell_type": "markdown",
   "metadata": {},
   "source": [
    "#### 拆分元组"
   ]
  },
  {
   "cell_type": "code",
   "execution_count": 12,
   "metadata": {},
   "outputs": [
    {
     "name": "stdout",
     "output_type": "stream",
     "text": [
      "6 7 8\n"
     ]
    }
   ],
   "source": [
    "tup=(6,7,8)\n",
    "a,b,c=tup\n",
    "print(a,b,c)"
   ]
  },
  {
   "cell_type": "markdown",
   "metadata": {},
   "source": [
    "含有元组的元组的拆分"
   ]
  },
  {
   "cell_type": "code",
   "execution_count": 15,
   "metadata": {},
   "outputs": [
    {
     "name": "stdout",
     "output_type": "stream",
     "text": [
      "4 5 6 8\n"
     ]
    }
   ],
   "source": [
    "tup=4,5,(6,8)\n",
    "a,b,(c, d)=tup\n",
    "print(a,b,c,d)"
   ]
  },
  {
   "cell_type": "markdown",
   "metadata": {},
   "source": [
    "变量拆分用于迭代元组或者列表序列"
   ]
  },
  {
   "cell_type": "code",
   "execution_count": 16,
   "metadata": {},
   "outputs": [
    {
     "name": "stdout",
     "output_type": "stream",
     "text": [
      "a=1, b=2, c=3\n",
      "a=4, b=5, c=6\n",
      "a=7, b=8, c=9\n"
     ]
    }
   ],
   "source": [
    "seq=[(1,2,3),(4,5,6),(7,8,9)]\n",
    "for a, b, c in seq:\n",
    "    print('a={0}, b={1}, c={2}'.format(a,b,c))"
   ]
  },
  {
   "cell_type": "markdown",
   "metadata": {},
   "source": [
    "从元组开头“摘取”多个元素,*rest用法也用在函数签名中抓取任意长度列表的位置参数"
   ]
  },
  {
   "cell_type": "code",
   "execution_count": 17,
   "metadata": {},
   "outputs": [
    {
     "name": "stdout",
     "output_type": "stream",
     "text": [
      "1 2 [3, 4, 5, 6]\n"
     ]
    }
   ],
   "source": [
    "tup = (1,2,3,4,5,6)\n",
    "a, b,*rest = tup\n",
    "print(a,b,rest)"
   ]
  },
  {
   "cell_type": "markdown",
   "metadata": {},
   "source": [
    "舍弃部分数据"
   ]
  },
  {
   "cell_type": "code",
   "execution_count": 20,
   "metadata": {},
   "outputs": [
    {
     "name": "stdout",
     "output_type": "stream",
     "text": [
      "1 2\n"
     ]
    }
   ],
   "source": [
    "tup = (1,2,3,4,5,6)\n",
    "a, b, *_= tup\n",
    "print(a,b)"
   ]
  },
  {
   "cell_type": "markdown",
   "metadata": {},
   "source": [
    "#### 元组方法"
   ]
  },
  {
   "cell_type": "markdown",
   "metadata": {},
   "source": [
    "count方法统计某个值出现的次数"
   ]
  },
  {
   "cell_type": "code",
   "execution_count": 21,
   "metadata": {},
   "outputs": [
    {
     "data": {
      "text/plain": [
       "5"
      ]
     },
     "execution_count": 21,
     "metadata": {},
     "output_type": "execute_result"
    }
   ],
   "source": [
    "tup=(1,2,2,2,3,4,5,2,2)\n",
    "tup.count(2)"
   ]
  },
  {
   "cell_type": "markdown",
   "metadata": {},
   "source": [
    "index获得特定值的位置,如果找不到特定值会抛出ValueError的异常"
   ]
  },
  {
   "cell_type": "code",
   "execution_count": 26,
   "metadata": {},
   "outputs": [
    {
     "name": "stdout",
     "output_type": "stream",
     "text": [
      "1\n",
      "Can not find this value\n"
     ]
    }
   ],
   "source": [
    "tup=(1,2,2,2,3,4,5,2,2)\n",
    "print(tup.index(2))\n",
    "try:\n",
    "    tup.index(6)\n",
    "except ValueError:\n",
    "    print(\"Can not find this value\")"
   ]
  },
  {
   "cell_type": "markdown",
   "metadata": {},
   "source": [
    "## 列表"
   ]
  },
  {
   "cell_type": "markdown",
   "metadata": {},
   "source": [
    "内容可修改，长度可变。"
   ]
  },
  {
   "cell_type": "code",
   "execution_count": 6,
   "metadata": {},
   "outputs": [
    {
     "name": "stdout",
     "output_type": "stream",
     "text": [
      "[6, 7, 8, None]\n",
      "[6, 7, 8]\n",
      "range(0, 10)\n"
     ]
    },
    {
     "data": {
      "text/plain": [
       "[0, 1, 2, 3, 4, 5, 6, 7, 8, 9]"
      ]
     },
     "execution_count": 6,
     "metadata": {},
     "output_type": "execute_result"
    }
   ],
   "source": [
    "lst=[6,7,8,None]\n",
    "print(lst)\n",
    "\n",
    "tup=(6,7,8)\n",
    "lst=list(tup)\n",
    "print(lst)\n",
    "\n",
    "gen=range(0,10)\n",
    "print(gen)\n",
    "# list函数实体化迭代器或生成器\n",
    "list(gen)"
   ]
  },
  {
   "cell_type": "markdown",
   "metadata": {},
   "source": [
    "#### 添加和删除元素"
   ]
  },
  {
   "cell_type": "markdown",
   "metadata": {},
   "source": [
    "append在列表尾部追加元素"
   ]
  },
  {
   "cell_type": "code",
   "execution_count": 8,
   "metadata": {},
   "outputs": [
    {
     "name": "stdout",
     "output_type": "stream",
     "text": [
      "[1, 2, 3, 4, 5, 6, 7, 8, 9, 10]\n"
     ]
    }
   ],
   "source": [
    "lst=[1,2,3,4,5,6,7,8,9]\n",
    "lst.append(10)\n",
    "print(lst)"
   ]
  },
  {
   "cell_type": "markdown",
   "metadata": {},
   "source": [
    "insert在指定位置插入元素,相较于append消耗的计算量更大。"
   ]
  },
  {
   "cell_type": "code",
   "execution_count": 9,
   "metadata": {},
   "outputs": [
    {
     "name": "stdout",
     "output_type": "stream",
     "text": [
      "[0, 1, 2, 3, 4, 5, 6, 7, 8, 9, 10]\n"
     ]
    }
   ],
   "source": [
    "lst.insert(0,0)\n",
    "print(lst)"
   ]
  },
  {
   "cell_type": "markdown",
   "metadata": {},
   "source": [
    "pop删除并返回指定位置的元素"
   ]
  },
  {
   "cell_type": "code",
   "execution_count": 10,
   "metadata": {},
   "outputs": [
    {
     "name": "stdout",
     "output_type": "stream",
     "text": [
      "[1, 2, 3, 4, 5, 6, 7, 8, 9, 10]\n"
     ]
    }
   ],
   "source": [
    "lst.pop(0)\n",
    "print(lst)"
   ]
  },
  {
   "cell_type": "markdown",
   "metadata": {},
   "source": [
    "remove删除某个指定的值，remove会先寻找第一个值并删除"
   ]
  },
  {
   "cell_type": "code",
   "execution_count": 11,
   "metadata": {},
   "outputs": [
    {
     "name": "stdout",
     "output_type": "stream",
     "text": [
      "[1, 2, 3, 4, 5, 6, 7, 8, 9]\n"
     ]
    }
   ],
   "source": [
    "lst.remove(10)\n",
    "print(lst)"
   ]
  },
  {
   "cell_type": "markdown",
   "metadata": {},
   "source": [
    "in判断列表包含某个值，添加not in判断列表不含某个值"
   ]
  },
  {
   "cell_type": "code",
   "execution_count": 13,
   "metadata": {},
   "outputs": [
    {
     "name": "stdout",
     "output_type": "stream",
     "text": [
      "True\n",
      "False\n"
     ]
    }
   ],
   "source": [
    "print(6 in lst)\n",
    "print(6 not in lst)"
   ]
  },
  {
   "cell_type": "markdown",
   "metadata": {},
   "source": [
    "对于已经定义的列表，extend追加多个元素"
   ]
  },
  {
   "cell_type": "code",
   "execution_count": 14,
   "metadata": {},
   "outputs": [
    {
     "name": "stdout",
     "output_type": "stream",
     "text": [
      "[1, 2, 3, 4, 5, 6, 7, 8, 9, 12, 13, 16]\n"
     ]
    }
   ],
   "source": [
    "lst=[1,2,3,4,5,6,7,8,9]\n",
    "lst.extend([12,13,16])\n",
    "print(lst)"
   ]
  },
  {
   "cell_type": "markdown",
   "metadata": {},
   "source": [
    "+将两个列表串联,加号串联计算量更大，因为需要创建一个列表并复制对象。extend方法更为可取。"
   ]
  },
  {
   "cell_type": "code",
   "execution_count": 15,
   "metadata": {},
   "outputs": [
    {
     "name": "stdout",
     "output_type": "stream",
     "text": [
      "[1, 2, 3, 4, 5, 6, 7, 8, 9, 12, 13, 16]\n"
     ]
    }
   ],
   "source": [
    "lst=[1,2,3,4,5,6,7,8,9]+[12,13,16]\n",
    "print(lst)"
   ]
  },
  {
   "cell_type": "markdown",
   "metadata": {},
   "source": [
    "#### 排序"
   ]
  },
  {
   "cell_type": "markdown",
   "metadata": {},
   "source": [
    "sort可以将列表原地排序"
   ]
  },
  {
   "cell_type": "code",
   "execution_count": 16,
   "metadata": {},
   "outputs": [
    {
     "name": "stdout",
     "output_type": "stream",
     "text": [
      "[1, 3, 6, 7, 9]\n"
     ]
    }
   ],
   "source": [
    "a=[1,7,3,6,9]\n",
    "a.sort()\n",
    "print(a)"
   ]
  },
  {
   "cell_type": "code",
   "execution_count": 17,
   "metadata": {},
   "outputs": [
    {
     "name": "stdout",
     "output_type": "stream",
     "text": [
      "['He', 'saw', 'six', 'small', 'foxes']\n"
     ]
    }
   ],
   "source": [
    "lst=[\"saw\", \"small\", \"He\", \"foxes\", \"six\"]\n",
    "lst.sort(key=len)\n",
    "print(lst)"
   ]
  },
  {
   "cell_type": "markdown",
   "metadata": {},
   "source": [
    "sorted函数将任意序列元素返回一个新的排好序的列表"
   ]
  },
  {
   "cell_type": "code",
   "execution_count": 35,
   "metadata": {},
   "outputs": [
    {
     "name": "stdout",
     "output_type": "stream",
     "text": [
      "[1, 2, 3, 4, 5, 7, 9]\n"
     ]
    },
    {
     "data": {
      "text/plain": [
       "[' ', 'a', 'c', 'e', 'e', 'h', 'o', 'r', 'r', 's']"
      ]
     },
     "execution_count": 35,
     "metadata": {},
     "output_type": "execute_result"
    }
   ],
   "source": [
    "l=[7,3,5,4,2,9,1]\n",
    "l = sorted(l)\n",
    "print(l)\n",
    "\n",
    "sorted(\"horse race\")"
   ]
  },
  {
   "cell_type": "markdown",
   "metadata": {},
   "source": [
    "bisect.bisect可以找到插入值后依然保持正确排序的位置，bisect.insert表示向上述位置插入数值。bisect不会检查列表是否已经排序好，未排序的列表使用bisect不会产生错误。"
   ]
  },
  {
   "cell_type": "code",
   "execution_count": 30,
   "metadata": {},
   "outputs": [
    {
     "name": "stdout",
     "output_type": "stream",
     "text": [
      " 18   0 [18]\n",
      " 73   1 [18, 73]\n",
      " 98   2 [18, 73, 98]\n",
      "  9   0 [9, 18, 73, 98]\n",
      " 33   2 [9, 18, 33, 73, 98]\n",
      " 16   1 [9, 16, 18, 33, 73, 98]\n",
      " 64   4 [9, 16, 18, 33, 64, 73, 98]\n",
      " 98   7 [9, 16, 18, 33, 64, 73, 98, 98]\n",
      " 58   4 [9, 16, 18, 33, 58, 64, 73, 98, 98]\n"
     ]
    }
   ],
   "source": [
    "import bisect\n",
    "import random\n",
    "random.seed(1)\n",
    "l=[]  \n",
    "for i in range(1,10):\n",
    "  r=random.randint(1,100)\n",
    "  position=bisect.bisect(l,r)\n",
    "  bisect.insort(l,r)\n",
    "  print('%3d %3d'%(r,position),l)"
   ]
  },
  {
   "cell_type": "markdown",
   "metadata": {},
   "source": [
    "#### 序列函数"
   ]
  },
  {
   "cell_type": "markdown",
   "metadata": {},
   "source": [
    "##### enumerate函数"
   ]
  },
  {
   "cell_type": "markdown",
   "metadata": {},
   "source": [
    "迭代序列，同时跟踪当前项的序列号。"
   ]
  },
  {
   "cell_type": "code",
   "execution_count": 31,
   "metadata": {},
   "outputs": [
    {
     "name": "stdout",
     "output_type": "stream",
     "text": [
      "0 : Hello\n",
      "1 : ,\n",
      "2 : niceto\n",
      "3 : meet\n",
      "4 : you\n"
     ]
    }
   ],
   "source": [
    "l=[\"Hello\", \",\", \"nice\" \"to\", \"meet\", \"you\"]\n",
    "for i ,v in enumerate(l):\n",
    "    print(\"{0} : {1}\".format(i, v))"
   ]
  },
  {
   "cell_type": "markdown",
   "metadata": {},
   "source": [
    "##### zip函数"
   ]
  },
  {
   "cell_type": "markdown",
   "metadata": {},
   "source": [
    "zip可以将多个列表、元组或其它序列成对组合成一个元组列表,它可以处理任意多的序列，元素个数取决于最短的序列"
   ]
  },
  {
   "cell_type": "code",
   "execution_count": 4,
   "metadata": {},
   "outputs": [
    {
     "name": "stdout",
     "output_type": "stream",
     "text": [
      "[('foo', 'one'), ('bar', 'two'), ('baz', 'three')]\n",
      "[('foo', 'one', False), ('bar', 'two', True)]\n"
     ]
    }
   ],
   "source": [
    "seq1 = ['foo', 'bar', 'baz']\n",
    "seq2 = ['one', 'two', 'three']\n",
    "zipped=zip(seq1, seq2)\n",
    "print(list(zipped))\n",
    "\n",
    "seq3=[False, True]\n",
    "print(list(zip(seq1, seq2, seq3)))"
   ]
  },
  {
   "cell_type": "markdown",
   "metadata": {},
   "source": [
    "zip的常见用法之，同时迭代多个序列，可以结合enumerate一起使用"
   ]
  },
  {
   "cell_type": "code",
   "execution_count": 43,
   "metadata": {},
   "outputs": [
    {
     "name": "stdout",
     "output_type": "stream",
     "text": [
      "0: foo one\n",
      "1: bar two\n",
      "2: baz three\n"
     ]
    }
   ],
   "source": [
    "for i,(a, b) in enumerate(zip(seq1, seq2)):\n",
    "    print(\"{0}: {1} {2}\".format(i, a, b))"
   ]
  },
  {
   "cell_type": "markdown",
   "metadata": {},
   "source": [
    "zip可以被用来解压序列，也可以当作把行的列表转换为列的列表"
   ]
  },
  {
   "cell_type": "code",
   "execution_count": 45,
   "metadata": {},
   "outputs": [
    {
     "name": "stdout",
     "output_type": "stream",
     "text": [
      "('Nolan', 'Roger', 'Schilling')\n",
      "('Ryan', 'Clemens', 'Curt')\n"
     ]
    }
   ],
   "source": [
    "pitchers = [('Nolan', 'Ryan'), ('Roger', 'Clemens'),('Schilling', 'Curt')]\n",
    "first_names, last_names = zip(*pitchers)\n",
    "print(first_names)\n",
    "print(last_names)"
   ]
  },
  {
   "cell_type": "markdown",
   "metadata": {},
   "source": [
    "##### reversed函数"
   ]
  },
  {
   "cell_type": "markdown",
   "metadata": {},
   "source": [
    "reversed可以从后向前迭代一个序列"
   ]
  },
  {
   "cell_type": "code",
   "execution_count": 46,
   "metadata": {},
   "outputs": [
    {
     "data": {
      "text/plain": [
       "[9, 8, 7, 6, 5, 4, 3, 2, 1, 0]"
      ]
     },
     "execution_count": 46,
     "metadata": {},
     "output_type": "execute_result"
    }
   ],
   "source": [
    "list(reversed(range(10)))"
   ]
  },
  {
   "cell_type": "markdown",
   "metadata": {},
   "source": [
    "### 字典"
   ]
  },
  {
   "cell_type": "markdown",
   "metadata": {},
   "source": [
    "也称为哈希映射或关联数组，字典的值可以是任意Python对象，而键通常是不可变的标量类型（整数、浮点型、字符串）或元组（元组中的对象必须是不可变的）。这被称为“可哈希性”。可以用hash函数检测一个对象是否是可哈希的。"
   ]
  },
  {
   "cell_type": "markdown",
   "metadata": {},
   "source": [
    "#### 创建字典"
   ]
  },
  {
   "cell_type": "code",
   "execution_count": 55,
   "metadata": {},
   "outputs": [
    {
     "name": "stdout",
     "output_type": "stream",
     "text": [
      "{'a': 'some value', 'b': 'some value'}\n"
     ]
    }
   ],
   "source": [
    "d={'a' : 'some value', 'b' : [1, 2, 3, 4]}\n",
    "print(d)"
   ]
  },
  {
   "cell_type": "markdown",
   "metadata": {},
   "source": [
    "用序列创建字典"
   ]
  },
  {
   "cell_type": "code",
   "execution_count": 62,
   "metadata": {},
   "outputs": [
    {
     "name": "stdout",
     "output_type": "stream",
     "text": [
      "{0: 4, 1: 3, 2: 2, 3: 1, 4: 0}\n"
     ]
    }
   ],
   "source": [
    "mapping = {}\n",
    "for key, value in zip(range(0,5), reversed(range(5))):\n",
    "    mapping[key] = value\n",
    "print(mapping)"
   ]
  },
  {
   "cell_type": "code",
   "execution_count": 61,
   "metadata": {},
   "outputs": [
    {
     "name": "stdout",
     "output_type": "stream",
     "text": [
      "{0: 4, 1: 3, 2: 2, 3: 1, 4: 0}\n"
     ]
    }
   ],
   "source": [
    "mapping = dict(zip(range(5), reversed(range(5))))\n",
    "print(mapping)"
   ]
  },
  {
   "cell_type": "markdown",
   "metadata": {},
   "source": [
    "#### 删除和更新元素"
   ]
  },
  {
   "cell_type": "code",
   "execution_count": 56,
   "metadata": {},
   "outputs": [
    {
     "name": "stdout",
     "output_type": "stream",
     "text": [
      "{'a': 'some value'}\n"
     ]
    },
    {
     "data": {
      "text/plain": [
       "'some value'"
      ]
     },
     "execution_count": 56,
     "metadata": {},
     "output_type": "execute_result"
    }
   ],
   "source": [
    "d['b'] = 'some value'\n",
    "del d['b']\n",
    "print(d)\n",
    "\n",
    "d['b'] = 'some value'\n",
    "d.pop('b')"
   ]
  },
  {
   "cell_type": "code",
   "execution_count": 59,
   "metadata": {},
   "outputs": [
    {
     "name": "stdout",
     "output_type": "stream",
     "text": [
      "{'a': 'some value', 'b': 'foo', 'c': 12}\n"
     ]
    }
   ],
   "source": [
    "d['b'] = 'some value'\n",
    "d.update({'b' : 'foo', 'c' : 12})\n",
    "print(d)"
   ]
  },
  {
   "cell_type": "markdown",
   "metadata": {},
   "source": [
    "#### 默认值"
   ]
  },
  {
   "cell_type": "markdown",
   "metadata": {},
   "source": [
    "get默认会返回None,也可以设置默认值返回。"
   ]
  },
  {
   "cell_type": "code",
   "execution_count": 71,
   "metadata": {},
   "outputs": [
    {
     "name": "stdout",
     "output_type": "stream",
     "text": [
      "None\n",
      "NOT FOUND\n"
     ]
    }
   ],
   "source": [
    "words={'a': ['apple', 'atom'], 'b': ['bat', 'bar', 'book']}\n",
    "word=words.get('c')\n",
    "print(word)\n",
    "\n",
    "word=words.get('c', \"NOT FOUND\")\n",
    "print(word)"
   ]
  },
  {
   "cell_type": "code",
   "execution_count": 70,
   "metadata": {},
   "outputs": [
    {
     "name": "stdout",
     "output_type": "stream",
     "text": [
      "defaultdict(<class 'list'>, {'a': ['apple', 'atom'], 'b': ['bat', 'bar', 'book']})\n"
     ]
    }
   ],
   "source": [
    "from collections import defaultdict\n",
    "\n",
    "words = ['apple', 'bat', 'bar', 'atom', 'book']\n",
    "by_letter = defaultdict(list)\n",
    "for word in words:\n",
    "    by_letter[word[0]].append(word)\n",
    "print(by_letter)"
   ]
  },
  {
   "cell_type": "code",
   "execution_count": 69,
   "metadata": {},
   "outputs": [
    {
     "name": "stdout",
     "output_type": "stream",
     "text": [
      "{'a': ['apple', 'atom'], 'b': ['bat', 'bar', 'book']}\n"
     ]
    }
   ],
   "source": [
    "words = ['apple', 'bat', 'bar', 'atom', 'book']\n",
    "by_letter={}\n",
    "for word in words:\n",
    "    letter = word[0]\n",
    "    by_letter.setdefault(letter, []).append(word)\n",
    "print(by_letter)"
   ]
  },
  {
   "cell_type": "markdown",
   "metadata": {},
   "source": [
    "### 集合"
   ]
  },
  {
   "cell_type": "markdown",
   "metadata": {},
   "source": [
    "无序的不可重复的元素的集合"
   ]
  },
  {
   "cell_type": "markdown",
   "metadata": {},
   "source": [
    "#### 集合运算"
   ]
  },
  {
   "cell_type": "markdown",
   "metadata": {},
   "source": [
    "合并运算,提取两个集合中不重复的元素，采用union方法或者|运算符。"
   ]
  },
  {
   "cell_type": "code",
   "execution_count": 78,
   "metadata": {},
   "outputs": [
    {
     "name": "stdout",
     "output_type": "stream",
     "text": [
      "{1, 2, 3, 4, 5, 6, 7, 8}\n"
     ]
    }
   ],
   "source": [
    "a = {1, 2, 3, 4, 5}\n",
    "b = {3, 4, 5, 6, 7, 8}\n",
    "\n",
    "a.union(b)\n",
    "print(a|b)"
   ]
  },
  {
   "cell_type": "markdown",
   "metadata": {},
   "source": [
    "交集运算，提取同时包含在两个集合中的元素，可以用intersection或&运算符。"
   ]
  },
  {
   "cell_type": "code",
   "execution_count": 79,
   "metadata": {},
   "outputs": [
    {
     "name": "stdout",
     "output_type": "stream",
     "text": [
      "{3, 4, 5}\n"
     ]
    }
   ],
   "source": [
    "a.intersection(b)\n",
    "print(a&b)"
   ]
  },
  {
   "cell_type": "markdown",
   "metadata": {},
   "source": [
    "检测一个集合是否是另外一个集合的子集"
   ]
  },
  {
   "cell_type": "code",
   "execution_count": 76,
   "metadata": {},
   "outputs": [
    {
     "data": {
      "text/plain": [
       "True"
      ]
     },
     "execution_count": 76,
     "metadata": {},
     "output_type": "execute_result"
    }
   ],
   "source": [
    "{1,2,3}.issubset(a)"
   ]
  },
  {
   "cell_type": "markdown",
   "metadata": {},
   "source": [
    "检测一个集合是否是另外一个集合的父集"
   ]
  },
  {
   "cell_type": "code",
   "execution_count": 77,
   "metadata": {},
   "outputs": [
    {
     "data": {
      "text/plain": [
       "True"
      ]
     },
     "execution_count": 77,
     "metadata": {},
     "output_type": "execute_result"
    }
   ],
   "source": [
    "a.issuperset({1, 2, 3})"
   ]
  },
  {
   "cell_type": "markdown",
   "metadata": {},
   "source": [
    "判断两个集合是否相等"
   ]
  },
  {
   "cell_type": "code",
   "execution_count": 80,
   "metadata": {},
   "outputs": [
    {
     "data": {
      "text/plain": [
       "True"
      ]
     },
     "execution_count": 80,
     "metadata": {},
     "output_type": "execute_result"
    }
   ],
   "source": [
    "{1,2,3} == {3,2,1}"
   ]
  },
  {
   "cell_type": "markdown",
   "metadata": {},
   "source": [
    "### 列表、集合和字典推导式"
   ]
  },
  {
   "cell_type": "markdown",
   "metadata": {},
   "source": [
    "#### filter条件"
   ]
  },
  {
   "cell_type": "code",
   "execution_count": 81,
   "metadata": {},
   "outputs": [
    {
     "data": {
      "text/plain": [
       "['BAT', 'CAR', 'DOVE', 'PYTHON']"
      ]
     },
     "execution_count": 81,
     "metadata": {},
     "output_type": "execute_result"
    }
   ],
   "source": [
    "strings = ['a', 'as', 'bat', 'car', 'dove', 'python']\n",
    "[x.upper() for x in strings if len(x) > 2]"
   ]
  },
  {
   "cell_type": "markdown",
   "metadata": {},
   "source": [
    "#### map函数"
   ]
  },
  {
   "cell_type": "code",
   "execution_count": 82,
   "metadata": {},
   "outputs": [
    {
     "data": {
      "text/plain": [
       "{1, 2, 3, 4, 6}"
      ]
     },
     "execution_count": 82,
     "metadata": {},
     "output_type": "execute_result"
    }
   ],
   "source": [
    "set(map(len, strings))"
   ]
  },
  {
   "cell_type": "markdown",
   "metadata": {},
   "source": [
    "字典推导"
   ]
  },
  {
   "cell_type": "code",
   "execution_count": 85,
   "metadata": {},
   "outputs": [
    {
     "data": {
      "text/plain": [
       "{'a': 0, 'as': 1, 'bat': 2, 'car': 3, 'dove': 4, 'python': 5}"
      ]
     },
     "execution_count": 85,
     "metadata": {},
     "output_type": "execute_result"
    }
   ],
   "source": [
    "mapping = {val : index for index, val in enumerate(strings)}\n",
    "mapping"
   ]
  },
  {
   "cell_type": "code",
   "execution_count": 87,
   "metadata": {},
   "outputs": [
    {
     "name": "stdout",
     "output_type": "stream",
     "text": [
      "['Steven', 'Jevier']\n"
     ]
    }
   ],
   "source": [
    "all_data = [['John', 'Emily', 'Michael', 'Mary', 'Steven'],['Maria', 'Juan', 'Jevier', 'Natalia', 'Pilar']]\n",
    "tmp = [name for names in all_data for name in names if name.count('e') >= 2]\n",
    "print(tmp)"
   ]
  },
  {
   "cell_type": "code",
   "execution_count": 88,
   "metadata": {},
   "outputs": [
    {
     "name": "stdout",
     "output_type": "stream",
     "text": [
      "['Alabama', 'Georgia', 'Georgia', 'Georgia', 'Florida', 'South   Carolina', 'West Virginia']\n"
     ]
    }
   ],
   "source": [
    "import re\n",
    "states = ['   Alabama ', 'Georgia!', 'Georgia', 'georgia', 'FlOrIda','south   carolina##', 'West virginia?']\n",
    "def clean_strings(strings):\n",
    "    result = []\n",
    "    for value in strings:\n",
    "        value = value.strip()\n",
    "        value = re.sub('[!#?]', '', value)\n",
    "        value = value.title()\n",
    "        result.append(value)\n",
    "    return result\n",
    "print(clean_strings(states))"
   ]
  },
  {
   "cell_type": "code",
   "execution_count": 89,
   "metadata": {},
   "outputs": [
    {
     "name": "stdout",
     "output_type": "stream",
     "text": [
      "['Alabama', 'Georgia', 'Georgia', 'Georgia', 'Florida', 'South   Carolina', 'West Virginia']\n"
     ]
    }
   ],
   "source": [
    "def remove_punctuation(value):\n",
    "    return re.sub('[!#?]', '', value)\n",
    "\n",
    "clean_ops = [str.strip, remove_punctuation, str.title]\n",
    "\n",
    "def clean_strings(strings, ops):\n",
    "    result = []\n",
    "    for value in strings:\n",
    "        for function in ops:\n",
    "            value = function(value)\n",
    "        result.append(value)\n",
    "    return result\n",
    "print(clean_strings(states, clean_ops))"
   ]
  },
  {
   "cell_type": "code",
   "execution_count": 91,
   "metadata": {},
   "outputs": [
    {
     "name": "stdout",
     "output_type": "stream",
     "text": [
      "Alabama\n",
      "Georgia\n",
      "Georgia\n",
      "Georgia\n",
      "Florida\n",
      "South   Carolina\n",
      "West Virginia\n"
     ]
    }
   ],
   "source": [
    "def remove_punctuation(value):\n",
    "    value = value.strip()\n",
    "    value = re.sub('[!#?]', '', value)\n",
    "    value = value.title()\n",
    "    return value\n",
    "\n",
    "for x in map(remove_punctuation, states):\n",
    "    print(x)"
   ]
  },
  {
   "cell_type": "markdown",
   "metadata": {},
   "source": [
    "## 函数"
   ]
  },
  {
   "cell_type": "markdown",
   "metadata": {},
   "source": [
    "### 匿名函数(lambda函数)"
   ]
  },
  {
   "cell_type": "code",
   "execution_count": 62,
   "metadata": {},
   "outputs": [
    {
     "data": {
      "text/plain": [
       "16"
      ]
     },
     "execution_count": 62,
     "metadata": {},
     "output_type": "execute_result"
    }
   ],
   "source": [
    "my_add = lambda x, y : x+y\n",
    "my_add(8,8)"
   ]
  },
  {
   "cell_type": "markdown",
   "metadata": {},
   "source": [
    "### 函数传参"
   ]
  },
  {
   "cell_type": "markdown",
   "metadata": {},
   "source": [
    "修改不可更改对象"
   ]
  },
  {
   "cell_type": "code",
   "execution_count": 5,
   "metadata": {},
   "outputs": [
    {
     "name": "stdout",
     "output_type": "stream",
     "text": [
      "Before id(a)={0} 1614241952\n",
      "Afetr 1 id(a)={0} 1614241952\n",
      "Afetr 2 id(a)={0} 1614241984\n",
      "1\n"
     ]
    }
   ],
   "source": [
    "a = 1\n",
    "print(\"Before id(a)={0}\", id(a))\n",
    "def fun(a):\n",
    "    print(\"Afetr 1 id(a)={0}\", id(a))\n",
    "    a = 2\n",
    "    print(\"Afetr 2 id(a)={0}\", id(a))\n",
    "fun(a)\n",
    "print(a)"
   ]
  },
  {
   "cell_type": "code",
   "execution_count": null,
   "metadata": {},
   "outputs": [],
   "source": [
    "更改可更改对象"
   ]
  },
  {
   "cell_type": "code",
   "execution_count": 2,
   "metadata": {},
   "outputs": [
    {
     "name": "stdout",
     "output_type": "stream",
     "text": [
      "Before id(b)={0} 94518152\n",
      "After id(b)={0} 94518152\n",
      "[2]\n"
     ]
    }
   ],
   "source": [
    "b = []\n",
    "print(\"Before id(b)={0}\", id(b))\n",
    "def fun1(b):\n",
    "    b.append(2)\n",
    "    print(\"After id(b)={0}\", id(b))\n",
    "fun1(b)\n",
    "print(b)"
   ]
  },
  {
   "cell_type": "markdown",
   "metadata": {},
   "source": [
    "### 柯里化：部分参数应用"
   ]
  },
  {
   "cell_type": "markdown",
   "metadata": {},
   "source": [
    "柯里化（currying）是一个有趣的计算机科学术语，它指的是通过“部分参数应用”从现有函数派生出新函数的技术。"
   ]
  },
  {
   "cell_type": "code",
   "execution_count": 6,
   "metadata": {},
   "outputs": [],
   "source": [
    "def add_numbers(x, y):\n",
    "    return x + y"
   ]
  },
  {
   "cell_type": "markdown",
   "metadata": {},
   "source": [
    "add_numbers的第二个参数被称为“柯里化”的。"
   ]
  },
  {
   "cell_type": "code",
   "execution_count": 5,
   "metadata": {},
   "outputs": [
    {
     "data": {
      "text/plain": [
       "11"
      ]
     },
     "execution_count": 5,
     "metadata": {},
     "output_type": "execute_result"
    }
   ],
   "source": [
    "add_five = lambda y: add_numbers(5, y)\n",
    "add_five(6)"
   ]
  },
  {
   "cell_type": "markdown",
   "metadata": {},
   "source": [
    "内置的functools模块可以用partial函数将此过程简化。"
   ]
  },
  {
   "cell_type": "code",
   "execution_count": 7,
   "metadata": {},
   "outputs": [
    {
     "data": {
      "text/plain": [
       "11"
      ]
     },
     "execution_count": 7,
     "metadata": {},
     "output_type": "execute_result"
    }
   ],
   "source": [
    "from functools import partial\n",
    "add_five = partial(add_numbers, 5)\n",
    "add_five(6)"
   ]
  },
  {
   "cell_type": "markdown",
   "metadata": {},
   "source": [
    "### 迭代器"
   ]
  },
  {
   "cell_type": "markdown",
   "metadata": {},
   "source": [
    "以一种一致的方式对序列进行迭代（比如列表中的对象或文件中的行）是Python的一个重要特点。这是通过一种叫做迭代器协议（iterator protocol，它是一种使对象可迭代的通用方式）的方式实现的，一个原生的使对象可迭代的方法。"
   ]
  },
  {
   "cell_type": "markdown",
   "metadata": {},
   "source": [
    "### 生成器构造可迭代对象"
   ]
  },
  {
   "cell_type": "code",
   "execution_count": 14,
   "metadata": {},
   "outputs": [
    {
     "name": "stdout",
     "output_type": "stream",
     "text": [
      "Generating squares from 1 to 10\n",
      "1 4 9 16 25 36 49 64 81 100 "
     ]
    }
   ],
   "source": [
    "# 生成器\n",
    "def squares(n=10):\n",
    "    print('Generating squares from 1 to {0}'.format(n))\n",
    "    for i in range(1, n + 1):\n",
    "        yield i ** 2\n",
    "\n",
    "# 调用生成器，此时没有代码被执行\n",
    "gen = squares()\n",
    "\n",
    "# 从生成器中请求元素时，开始执行代码\n",
    "for item in gen:\n",
    "    print(item, end=\" \")"
   ]
  },
  {
   "cell_type": "markdown",
   "metadata": {},
   "source": [
    "### 生成器表达式"
   ]
  },
  {
   "cell_type": "code",
   "execution_count": 16,
   "metadata": {},
   "outputs": [
    {
     "name": "stdout",
     "output_type": "stream",
     "text": [
      "0 1 4 9 16 25 36 49 64 81 100 "
     ]
    }
   ],
   "source": [
    "gen = (x ** 2 for x in range(11))\n",
    "for item in gen:\n",
    "    print(item, end=\" \")"
   ]
  },
  {
   "cell_type": "markdown",
   "metadata": {},
   "source": [
    "生成器表达式也可以取代列表推导式，作为函数参数"
   ]
  },
  {
   "cell_type": "code",
   "execution_count": 17,
   "metadata": {},
   "outputs": [
    {
     "data": {
      "text/plain": [
       "385"
      ]
     },
     "execution_count": 17,
     "metadata": {},
     "output_type": "execute_result"
    }
   ],
   "source": [
    "sum(x**2 for x in range(11))"
   ]
  },
  {
   "cell_type": "code",
   "execution_count": 19,
   "metadata": {},
   "outputs": [
    {
     "data": {
      "text/plain": [
       "{0: 0, 1: 1, 2: 4, 3: 9, 4: 16, 5: 25, 6: 36, 7: 49, 8: 64, 9: 81, 10: 100}"
      ]
     },
     "execution_count": 19,
     "metadata": {},
     "output_type": "execute_result"
    }
   ],
   "source": [
    "dict((x,x**2) for x in range(11))"
   ]
  },
  {
   "cell_type": "markdown",
   "metadata": {},
   "source": [
    "### itertools模块"
   ]
  },
  {
   "cell_type": "markdown",
   "metadata": {},
   "source": [
    "标准库itertools模块中有一组用于许多常见数据算法的生成器。"
   ]
  },
  {
   "cell_type": "markdown",
   "metadata": {},
   "source": [
    "groupby可以接受任何序列和一个函数，根据函数的返回值对序列中的连续元素进行分组。"
   ]
  },
  {
   "cell_type": "code",
   "execution_count": 22,
   "metadata": {},
   "outputs": [
    {
     "name": "stdout",
     "output_type": "stream",
     "text": [
      "A ['Alan', 'Adam']\n",
      "W ['Wes', 'Will']\n",
      "A ['Albert']\n",
      "S ['Steven']\n"
     ]
    }
   ],
   "source": [
    "import itertools\n",
    "first_letter = lambda x : x[0]\n",
    "names = ['Alan', 'Adam', 'Wes', 'Will', 'Albert', 'Steven']\n",
    "for letter, names in itertools.groupby(names, first_letter):\n",
    "    print(letter, list(names))"
   ]
  },
  {
   "cell_type": "markdown",
   "metadata": {},
   "source": [
    "创建一个迭代器，返回迭代器中所有长度为K的子序列，返回的子序列中的项按输入迭代器中的顺序排序 (不带重复)。K指定生成排列的元素的长度，如果不指定，则默认为可迭代对象的元素长度。"
   ]
  },
  {
   "cell_type": "code",
   "execution_count": 23,
   "metadata": {},
   "outputs": [
    {
     "data": {
      "text/plain": [
       "[('A', 'B'), ('A', 'C'), ('B', 'C')]"
      ]
     },
     "execution_count": 23,
     "metadata": {},
     "output_type": "execute_result"
    }
   ],
   "source": [
    "import itertools\n",
    "list(itertools.combinations('ABC', 2))"
   ]
  },
  {
   "cell_type": "markdown",
   "metadata": {},
   "source": [
    "创建一个迭代器，返回迭代器中所有长度为K的子序列,考虑顺序"
   ]
  },
  {
   "cell_type": "code",
   "execution_count": 24,
   "metadata": {},
   "outputs": [
    {
     "data": {
      "text/plain": [
       "[('A', 'B'), ('A', 'C'), ('B', 'A'), ('B', 'C'), ('C', 'A'), ('C', 'B')]"
      ]
     },
     "execution_count": 24,
     "metadata": {},
     "output_type": "execute_result"
    }
   ],
   "source": [
    "import itertools\n",
    "list(itertools.permutations('ABC', 2))"
   ]
  },
  {
   "cell_type": "markdown",
   "metadata": {},
   "source": [
    "生成输入迭代器的笛卡尔积，结果为元组。"
   ]
  },
  {
   "cell_type": "code",
   "execution_count": 26,
   "metadata": {},
   "outputs": [
    {
     "data": {
      "text/plain": [
       "[(1, 3, 5),\n",
       " (1, 3, 6),\n",
       " (1, 4, 5),\n",
       " (1, 4, 6),\n",
       " (2, 3, 5),\n",
       " (2, 3, 6),\n",
       " (2, 4, 5),\n",
       " (2, 4, 6)]"
      ]
     },
     "execution_count": 26,
     "metadata": {},
     "output_type": "execute_result"
    }
   ],
   "source": [
    "import itertools\n",
    "l1 = [1, 2]\n",
    "l2 = [3, 4]\n",
    "l3 = [5, 6]\n",
    "list(itertools.product(l1, l2, l3))"
   ]
  },
  {
   "cell_type": "markdown",
   "metadata": {},
   "source": [
    "### 错误和异常处理"
   ]
  },
  {
   "cell_type": "markdown",
   "metadata": {},
   "source": [
    "#### 异常"
   ]
  },
  {
   "cell_type": "markdown",
   "metadata": {},
   "source": [
    "查看异常"
   ]
  },
  {
   "cell_type": "code",
   "execution_count": 63,
   "metadata": {},
   "outputs": [
    {
     "data": {
      "text/plain": [
       "['ArithmeticError',\n",
       " 'AssertionError',\n",
       " 'AttributeError',\n",
       " 'BaseException',\n",
       " 'BlockingIOError',\n",
       " 'BrokenPipeError',\n",
       " 'BufferError',\n",
       " 'BytesWarning',\n",
       " 'ChildProcessError',\n",
       " 'ConnectionAbortedError',\n",
       " 'ConnectionError',\n",
       " 'ConnectionRefusedError',\n",
       " 'ConnectionResetError',\n",
       " 'DeprecationWarning',\n",
       " 'EOFError',\n",
       " 'Ellipsis',\n",
       " 'EnvironmentError',\n",
       " 'Exception',\n",
       " 'False',\n",
       " 'FileExistsError',\n",
       " 'FileNotFoundError',\n",
       " 'FloatingPointError',\n",
       " 'FutureWarning',\n",
       " 'GeneratorExit',\n",
       " 'IOError',\n",
       " 'ImportError',\n",
       " 'ImportWarning',\n",
       " 'IndentationError',\n",
       " 'IndexError',\n",
       " 'InterruptedError',\n",
       " 'IsADirectoryError',\n",
       " 'KeyError',\n",
       " 'KeyboardInterrupt',\n",
       " 'LookupError',\n",
       " 'MemoryError',\n",
       " 'ModuleNotFoundError',\n",
       " 'NameError',\n",
       " 'None',\n",
       " 'NotADirectoryError',\n",
       " 'NotImplemented',\n",
       " 'NotImplementedError',\n",
       " 'OSError',\n",
       " 'OverflowError',\n",
       " 'PendingDeprecationWarning',\n",
       " 'PermissionError',\n",
       " 'ProcessLookupError',\n",
       " 'RecursionError',\n",
       " 'ReferenceError',\n",
       " 'ResourceWarning',\n",
       " 'RuntimeError',\n",
       " 'RuntimeWarning',\n",
       " 'StopAsyncIteration',\n",
       " 'StopIteration',\n",
       " 'SyntaxError',\n",
       " 'SyntaxWarning',\n",
       " 'SystemError',\n",
       " 'SystemExit',\n",
       " 'TabError',\n",
       " 'TimeoutError',\n",
       " 'True',\n",
       " 'TypeError',\n",
       " 'UnboundLocalError',\n",
       " 'UnicodeDecodeError',\n",
       " 'UnicodeEncodeError',\n",
       " 'UnicodeError',\n",
       " 'UnicodeTranslateError',\n",
       " 'UnicodeWarning',\n",
       " 'UserWarning',\n",
       " 'ValueError',\n",
       " 'Warning',\n",
       " 'WindowsError',\n",
       " 'ZeroDivisionError',\n",
       " '__IPYTHON__',\n",
       " '__build_class__',\n",
       " '__debug__',\n",
       " '__doc__',\n",
       " '__import__',\n",
       " '__loader__',\n",
       " '__name__',\n",
       " '__package__',\n",
       " '__spec__',\n",
       " 'abs',\n",
       " 'all',\n",
       " 'any',\n",
       " 'ascii',\n",
       " 'bin',\n",
       " 'bool',\n",
       " 'bytearray',\n",
       " 'bytes',\n",
       " 'callable',\n",
       " 'chr',\n",
       " 'classmethod',\n",
       " 'compile',\n",
       " 'complex',\n",
       " 'copyright',\n",
       " 'credits',\n",
       " 'delattr',\n",
       " 'dict',\n",
       " 'dir',\n",
       " 'display',\n",
       " 'divmod',\n",
       " 'enumerate',\n",
       " 'eval',\n",
       " 'exec',\n",
       " 'filter',\n",
       " 'float',\n",
       " 'format',\n",
       " 'frozenset',\n",
       " 'get_ipython',\n",
       " 'getattr',\n",
       " 'globals',\n",
       " 'hasattr',\n",
       " 'hash',\n",
       " 'help',\n",
       " 'hex',\n",
       " 'id',\n",
       " 'input',\n",
       " 'int',\n",
       " 'isinstance',\n",
       " 'issubclass',\n",
       " 'iter',\n",
       " 'len',\n",
       " 'license',\n",
       " 'list',\n",
       " 'locals',\n",
       " 'map',\n",
       " 'max',\n",
       " 'memoryview',\n",
       " 'min',\n",
       " 'next',\n",
       " 'object',\n",
       " 'oct',\n",
       " 'open',\n",
       " 'ord',\n",
       " 'pow',\n",
       " 'print',\n",
       " 'property',\n",
       " 'range',\n",
       " 'repr',\n",
       " 'reversed',\n",
       " 'round',\n",
       " 'set',\n",
       " 'setattr',\n",
       " 'slice',\n",
       " 'sorted',\n",
       " 'staticmethod',\n",
       " 'str',\n",
       " 'sum',\n",
       " 'super',\n",
       " 'tuple',\n",
       " 'type',\n",
       " 'vars',\n",
       " 'zip']"
      ]
     },
     "execution_count": 63,
     "metadata": {},
     "output_type": "execute_result"
    }
   ],
   "source": [
    "dir(__builtins__)"
   ]
  },
  {
   "cell_type": "markdown",
   "metadata": {},
   "source": [
    "#### 异常捕获和处理"
   ]
  },
  {
   "cell_type": "markdown",
   "metadata": {},
   "source": [
    "捕获所有的异常"
   ]
  },
  {
   "cell_type": "code",
   "execution_count": 73,
   "metadata": {},
   "outputs": [
    {
     "name": "stdout",
     "output_type": "stream",
     "text": [
      "Enter thefirstnumber: 3\n",
      "Enter thesecondnumber: 0\n",
      "Invalidinput! division by zero\n"
     ]
    }
   ],
   "source": [
    "try:\n",
    "    num1 = int(input('Enter thefirstnumber: '))\n",
    "    num2 = int(input('Enter thesecondnumber: '))\n",
    "    print(num1 / num2)\n",
    "except Exception as err: \n",
    "    print('Invalidinput!', err)"
   ]
  },
  {
   "cell_type": "code",
   "execution_count": 64,
   "metadata": {},
   "outputs": [
    {
     "name": "stdout",
     "output_type": "stream",
     "text": [
      "Enter thefirstnumber: d3\n",
      "Invalidinput!\n"
     ]
    }
   ],
   "source": [
    "try:\n",
    "    num1 = int(input('Enter thefirstnumber: '))\n",
    "    num2 = int(input('Enter thesecondnumber: '))\n",
    "    print(num1 / num2)\n",
    "except(ValueError, ZeroDivisionError): \n",
    "    print('Invalidinput!')"
   ]
  },
  {
   "cell_type": "code",
   "execution_count": 70,
   "metadata": {},
   "outputs": [
    {
     "name": "stdout",
     "output_type": "stream",
     "text": [
      "Enter thefirstnumber: 4\n",
      "Enter thesecondnumber: 2\n",
      "2.0\n",
      "Everything is OK!\n",
      "Alawys execute\n"
     ]
    }
   ],
   "source": [
    "try:\n",
    "    num1 = int(input('Enter thefirstnumber: '))\n",
    "    num2 = int(input('Enter thesecondnumber: '))\n",
    "    print(num1 / num2)\n",
    "except ValueError as err: \n",
    "    print('Please input a digit!', err)\n",
    "except ZeroDivisionError: \n",
    "    print('The secondnumbercannotbezero!')\n",
    "else:\n",
    "    print(\"Everything is OK!\")\n",
    "finally:\n",
    "    # 无论是否发生异常，finally语句都会执行\n",
    "    print(\"Alawys execute\")"
   ]
  },
  {
   "cell_type": "markdown",
   "metadata": {},
   "source": [
    "#### 上下文管理器（Context Manager）和with语句"
   ]
  },
  {
   "cell_type": "markdown",
   "metadata": {},
   "source": [
    "with语句使用于对资源进行访问的场合。\n",
    "确保使用过程中不管是否发生异常，都会执行必要的“清理”操作，并释放资源。比如文件使用后自动关闭，线程中锁的自动获取和释放。"
   ]
  },
  {
   "cell_type": "code",
   "execution_count": 77,
   "metadata": {},
   "outputs": [
    {
     "name": "stdout",
     "output_type": "stream",
     "text": [
      "Read failed,  [Errno 2] No such file or directory: './data.txt'\n"
     ]
    }
   ],
   "source": [
    "try:\n",
    "    with open('./data.txt') as f:\n",
    "        for line in f:\n",
    "            print(line, end='')\n",
    "except IOError as err:\n",
    "    print(\"Read failed, \", err)"
   ]
  },
  {
   "cell_type": "code",
   "execution_count": 82,
   "metadata": {},
   "outputs": [
    {
     "name": "stdout",
     "output_type": "stream",
     "text": [
      "9\n",
      "27\n"
     ]
    }
   ],
   "source": [
    "def my_power(x, n = 2):\n",
    "    s = 1\n",
    "    while n > 0:\n",
    "        n -= 1\n",
    "        s = s * x\n",
    "    return s\n",
    "print(my_power(-3))\n",
    "print(my_power(3,3))"
   ]
  },
  {
   "cell_type": "markdown",
   "metadata": {},
   "source": [
    "## 文件操作"
   ]
  },
  {
   "cell_type": "markdown",
   "metadata": {},
   "source": [
    "rb:二进制方式打开；r+:读写模式；w:只写模式，创建新的文件，如果存在同名文件则删除；r:只读模式"
   ]
  },
  {
   "cell_type": "code",
   "execution_count": 49,
   "metadata": {},
   "outputs": [
    {
     "name": "stdout",
     "output_type": "stream",
     "text": [
      "Sueña el rico en su riqueza,\n",
      "que más cuidados le ofrece;\n",
      "\n",
      "sueña el pobre que padece,\n",
      "su miseria y su pobreza;\n",
      "\n",
      "sueña el que a medrar empieza,\n",
      "sueña el que afana y pretende,\n",
      "sueña el que agravia y ofende,\n",
      "\n",
      "y en el mundo, en conclusión,\n",
      "todos sueñan lo que son,\n",
      "aunque ninguno lo entiende.\n"
     ]
    }
   ],
   "source": [
    "with open(\"jupyters/segismundo.txt\",mode=\"r\", encoding='utf-8') as f:\n",
    "    for line in f:\n",
    "        # 去除末尾的空格\n",
    "        line = line.rstrip()\n",
    "        print(line)"
   ]
  },
  {
   "cell_type": "code",
   "execution_count": null,
   "metadata": {},
   "outputs": [],
   "source": []
  }
 ],
 "metadata": {
  "kernelspec": {
   "display_name": "Python 3",
   "language": "python",
   "name": "python3"
  },
  "language_info": {
   "codemirror_mode": {
    "name": "ipython",
    "version": 3
   },
   "file_extension": ".py",
   "mimetype": "text/x-python",
   "name": "python",
   "nbconvert_exporter": "python",
   "pygments_lexer": "ipython3",
   "version": "3.7.0"
  }
 },
 "nbformat": 4,
 "nbformat_minor": 2
}
