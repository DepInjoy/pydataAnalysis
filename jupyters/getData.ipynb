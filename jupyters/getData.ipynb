{
 "cells": [
  {
   "cell_type": "markdown",
   "metadata": {},
   "source": [
    "### 本地数据获取"
   ]
  },
  {
   "cell_type": "code",
   "execution_count": 9,
   "metadata": {},
   "outputs": [],
   "source": [
    "with  open(\"firstPro.txt\", \"w\") as f:\n",
    "    f.write(\"Hello,world !\")"
   ]
  },
  {
   "cell_type": "code",
   "execution_count": 10,
   "metadata": {},
   "outputs": [
    {
     "name": "stdout",
     "output_type": "stream",
     "text": [
      "Hello\n",
      ",world !\n"
     ]
    }
   ],
   "source": [
    "with  open(\"firstPro.txt\", \"r\") as f:\n",
    "    # 读取5个字节\n",
    "    p1 = f.read(5)\n",
    "    # 读取当前位置直到文件结束符为止的所有字符\n",
    "    p2 = f.read()\n",
    "    print(p1)\n",
    "    print(p2)"
   ]
  },
  {
   "cell_type": "markdown",
   "metadata": {},
   "source": [
    "读取多行文件"
   ]
  },
  {
   "cell_type": "code",
   "execution_count": 12,
   "metadata": {},
   "outputs": [
    {
     "name": "stdout",
     "output_type": "stream",
     "text": [
      "['Hello,world !\\n', 'Nice to meet you !\\n', 'Nice to meet you, too!']\n"
     ]
    }
   ],
   "source": [
    "with  open(\"firstPro1.txt\", \"r\") as f:\n",
    "    lines = f.readlines()\n",
    "    print(lines)"
   ]
  },
  {
   "cell_type": "markdown",
   "metadata": {},
   "source": [
    "读取单行文件"
   ]
  },
  {
   "cell_type": "code",
   "execution_count": 26,
   "metadata": {},
   "outputs": [
    {
     "name": "stdout",
     "output_type": "stream",
     "text": [
      "Hello,world !\n",
      "\n"
     ]
    }
   ],
   "source": [
    "fileName = \"firstPro1.txt\"\n",
    "try:\n",
    "    with  open(fileName, \"r\") as f:\n",
    "        line = f.readline()\n",
    "        print(line)\n",
    "except FileNotFoundError:\n",
    "    print(fileName, \" doesn't exist.\")"
   ]
  },
  {
   "cell_type": "code",
   "execution_count": 19,
   "metadata": {},
   "outputs": [],
   "source": [
    "with  open(\"firstPro1.txt\", \"r\") as f:\n",
    "    lines = f.readlines()\n",
    "    newLines = \"\"\n",
    "    for index, line in enumerate(lines):\n",
    "        newLines += str(index) + \" \" + line\n",
    "    with  open(\"firstPro2.txt\", \"w\") as f2:\n",
    "        f2.writelines(newLines)"
   ]
  },
  {
   "cell_type": "markdown",
   "metadata": {},
   "source": [
    "#### 标准文件"
   ]
  },
  {
   "cell_type": "markdown",
   "metadata": {},
   "source": [
    "stdin：标准输入\n",
    "stdout：标准输出\n",
    "stderr：标准错误"
   ]
  },
  {
   "cell_type": "code",
   "execution_count": 21,
   "metadata": {},
   "outputs": [
    {
     "name": "stdout",
     "output_type": "stream",
     "text": [
      "Please input your name: Lily\n",
      "My name is  Lily\n"
     ]
    }
   ],
   "source": [
    "name = input(\"Please input your name: \")\n",
    "print(\"My name is \", name)"
   ]
  },
  {
   "cell_type": "code",
   "execution_count": 23,
   "metadata": {},
   "outputs": [
    {
     "name": "stdout",
     "output_type": "stream",
     "text": [
      "Hello, World"
     ]
    }
   ],
   "source": [
    "import sys\n",
    "# print的实现\n",
    "sys.stdout.write(\"Hello, World\")"
   ]
  },
  {
   "cell_type": "code",
   "execution_count": 29,
   "metadata": {},
   "outputs": [
    {
     "name": "stdout",
     "output_type": "stream",
     "text": [
      "./jupyters\\fundation.ipynb\n",
      "./jupyters\\Pandas.ipynb\n",
      "./jupyters\\Untitled.ipynb\n"
     ]
    }
   ],
   "source": [
    "import os\n",
    "path = \"./jupyters\"\n",
    "for fname in os.listdir(path):\n",
    "    if fname.endswith(\".ipynb\"):\n",
    "        filePath = os.path.join(path, fname)\n",
    "        print(filePath)"
   ]
  },
  {
   "cell_type": "markdown",
   "metadata": {},
   "source": [
    "创建目录"
   ]
  },
  {
   "cell_type": "code",
   "execution_count": 30,
   "metadata": {},
   "outputs": [],
   "source": [
    "os.mkdir(\"test\")"
   ]
  },
  {
   "cell_type": "markdown",
   "metadata": {},
   "source": [
    "递归地删除非空目录"
   ]
  },
  {
   "cell_type": "code",
   "execution_count": 32,
   "metadata": {},
   "outputs": [],
   "source": [
    "import shutil\n",
    "if os.path.exists(\"test\"):\n",
    "    shutil.rmtree(\"test\")"
   ]
  },
  {
   "cell_type": "markdown",
   "metadata": {},
   "source": [
    "### 网络数据获取"
   ]
  },
  {
   "cell_type": "markdown",
   "metadata": {},
   "source": [
    "抓取网页：urllib模块、Request第三方库、Scrapy框架(适合于大型项目)\n",
    "解析：BeautifulSoup库、re模块"
   ]
  },
  {
   "cell_type": "markdown",
   "metadata": {},
   "source": [
    "https://www.douban.com/robots.txt"
   ]
  },
  {
   "cell_type": "code",
   "execution_count": null,
   "metadata": {},
   "outputs": [],
   "source": []
  }
 ],
 "metadata": {
  "kernelspec": {
   "display_name": "Python 3",
   "language": "python",
   "name": "python3"
  },
  "language_info": {
   "codemirror_mode": {
    "name": "ipython",
    "version": 3
   },
   "file_extension": ".py",
   "mimetype": "text/x-python",
   "name": "python",
   "nbconvert_exporter": "python",
   "pygments_lexer": "ipython3",
   "version": "3.6.5"
  }
 },
 "nbformat": 4,
 "nbformat_minor": 2
}
